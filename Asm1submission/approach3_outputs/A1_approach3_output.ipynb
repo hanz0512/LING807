{
 "cells": [
  {
   "cell_type": "markdown",
   "id": "9c2662a3",
   "metadata": {},
   "source": [
    "# QuotationTool\n",
    "In this notebook, you will use the *QuotationTool* to extract quotes from a list of texts. In addition to extracting the quotes, the tool also provides information about who the speakers are, the location of the quotes (and the speakers) within the text, the identified named entities, etc., which can be useful for your text analysis.  \n",
    "\n",
    "**Note:** This code has been adapted (with permission) from the [GenderGapTracker GitHub page](https://github.com/sfu-discourse-lab/GenderGapTracker/tree/master/nlp/english) and modified to run on a Jupyter Notebook. The quotation tool’s accuracy rate is evaluated in [this article](https://doi.org/10.1371/journal.pone.0245533).\n",
    "\n",
    "<div class=\"alert alert-block alert-warning\">\n",
    "<b>User guide to using a Jupyter Notebook</b> \n",
    "\n",
    "If you are new to Jupyter Notebook, feel free to take a quick look at [this user guide](https://github.com/Australian-Text-Analytics-Platform/quotation-tool/blob/main/documents/jupyter-notebook-guide.pdf) for basic information on how to use a notebook.\n",
    "</div>"
   ]
  },
  {
   "cell_type": "markdown",
   "id": "dc99ca86",
   "metadata": {},
   "source": [
    "## 1. Setup\n",
    "Before you begin, you need to import the QuotationTool and the necessary libraries and initiate them to run in this notebook."
   ]
  },
  {
   "cell_type": "code",
   "execution_count": 1,
   "id": "e6720419",
   "metadata": {},
   "outputs": [
    {
     "name": "stderr",
     "output_type": "stream",
     "text": [
      "[nltk_data] Downloading package punkt to /home/jovyan/nltk_data...\n",
      "[nltk_data]   Unzipping tokenizers/punkt.zip.\n"
     ]
    },
    {
     "name": "stdout",
     "output_type": "stream",
     "text": [
      "Loading spaCy language model...\n",
      "This may take a while...\n",
      "Finished loading.\n"
     ]
    }
   ],
   "source": [
    "# import the QuotationTool\n",
    "from extract_display_quotes import QuotationTool, DownloadFileLink\n",
    "\n",
    "# initialize the QuotationTool\n",
    "qt = QuotationTool()"
   ]
  },
  {
   "cell_type": "markdown",
   "id": "a0a9cb8a",
   "metadata": {},
   "source": [
    "<div class=\"alert alert-block alert-warning\">\n",
    "<b>Installing Libraries</b> \n",
    "\n",
    "The requirements file <b>environment.yml</b> is included with this notebook. Take a look inside to find out what libraries you have just installed with the above command.\n",
    "\n",
    "</div>"
   ]
  },
  {
   "cell_type": "markdown",
   "id": "7cf517c9",
   "metadata": {},
   "source": [
    "## 2. Load the data\n",
    "This notebook will allow you to extract quotes directly from a text file (or a number of text files). Alternatively, you can also extract quotes from a text column inside your excel spreadsheet ([see an example here](https://github.com/Australian-Text-Analytics-Platform/quotation-tool/blob/main/documents/sample_texts.xlsx?raw=true)).  \n",
    "\n",
    "<table style='margin-left: 10px'><tr>\n",
    "<td> <img src='./img/txt_icon.png' style='width: 45px'/> </td>\n",
    "<td> <img src='./img/xlsx_icon.png' style='width: 55px'/> </td>\n",
    "<td> <img src='./img/csv_icon.png' style='width: 45px'/> </td>\n",
    "<td> <img src='./img/zip_icon.png' style='width: 45px'/> </td>\n",
    "</tr></table>\n",
    "\n",
    "<div class=\"alert alert-block alert-warning\">\n",
    "<b>Uploading your text files</b> \n",
    "    \n",
    "If you have a large number of text files (more than 10MB in total), we suggest you compress (zip) them and upload the zip file instead. If you need assistance on how to compress your file, please check [the user guide](https://github.com/Australian-Text-Analytics-Platform/quotation-tool/blob/main/documents/jupyter-notebook-guide.pdf) for more info. \n",
    "</div>\n",
    "\n",
    "<div class=\"alert alert-block alert-danger\">\n",
    "<b>Large file upload</b> \n",
    "    \n",
    "If you have ongoing issues with the file upload, please re-launch the notebook via Binder again. If the issue persists, consider restarting your computer.\n",
    "</div>\n",
    "\n"
   ]
  },
  {
   "cell_type": "code",
   "execution_count": 2,
   "id": "2ad98bd1",
   "metadata": {},
   "outputs": [
    {
     "data": {
      "application/vnd.jupyter.widget-view+json": {
       "model_id": "4ec84f3a40bb4e8ea8347f8c3ff7bd05",
       "version_major": 2,
       "version_minor": 0
      },
      "text/plain": [
       "VBox(children=(FileUpload(value=(), accept='.txt, .xlsx, .csv, .zip', description='Upload your files (txt, csv…"
      ]
     },
     "metadata": {},
     "output_type": "display_data"
    },
    {
     "name": "stdout",
     "output_type": "stream",
     "text": [
      "Uploading large files may take a while. Please be patient.\n",
      "\u001b[1mPlease wait and do not press any buttons until the progress bar appears...\u001b[0m\n"
     ]
    }
   ],
   "source": [
    "# upload the text files and/or excel spreadsheets onto the system\n",
    "display(qt.upload_box)\n",
    "print('Uploading large files may take a while. Please be patient.')\n",
    "print('\\033[1mPlease wait and do not press any buttons until the progress bar appears...\\033[0m')"
   ]
  },
  {
   "cell_type": "markdown",
   "id": "c700ef8b",
   "metadata": {},
   "source": [
    "Once your files are uploaded, you can see a preview of the text in a table format (pandas dataframe).  \n",
    "\n",
    "<div class=\"alert alert-block alert-info\">\n",
    "<b>Tools:</b>    \n",
    "    \n",
    "- nltk: for sentence tokenization\n",
    "- spaCy: for text cleaning and normalisation\n",
    "- pandas: for storing and displaying in dataframe (table) format\n",
    "</div>\n",
    "\n",
    "<div class=\"alert alert-block alert-warning\">\n",
    "<b>Specify the number of rows to display</b> \n",
    "    \n",
    "By default, you will preview the first 5 rows of the extracted quotes in a pandas dataframe (table) format. However, you can preview more or less rows by specifying the number of rows you wish to display in the variable 'n' below. \n",
    "</div>"
   ]
  },
  {
   "cell_type": "code",
   "execution_count": 3,
   "id": "8d35f71c",
   "metadata": {},
   "outputs": [
    {
     "data": {
      "text/html": [
       "<div>\n",
       "<style scoped>\n",
       "    .dataframe tbody tr th:only-of-type {\n",
       "        vertical-align: middle;\n",
       "    }\n",
       "\n",
       "    .dataframe tbody tr th {\n",
       "        vertical-align: top;\n",
       "    }\n",
       "\n",
       "    .dataframe thead th {\n",
       "        text-align: right;\n",
       "    }\n",
       "</style>\n",
       "<table border=\"1\" class=\"dataframe\">\n",
       "  <thead>\n",
       "    <tr style=\"text-align: right;\">\n",
       "      <th></th>\n",
       "      <th>text_name</th>\n",
       "      <th>text</th>\n",
       "      <th>text_id</th>\n",
       "    </tr>\n",
       "  </thead>\n",
       "  <tbody>\n",
       "    <tr>\n",
       "      <th>0</th>\n",
       "      <td>5c1548a31e67d78e2771624f</td>\n",
       "      <td>Looking for a job, kid? Try a store, a bank, a...</td>\n",
       "      <td>f035f5d8e405fc4d7c36b2c7759f4730</td>\n",
       "    </tr>\n",
       "    <tr>\n",
       "      <th>1</th>\n",
       "      <td>5c489df91e67d78e271d66c5</td>\n",
       "      <td>After fading down the stretch last season, the...</td>\n",
       "      <td>81bebde107bc12c7cb15c69f9ae5ebaf</td>\n",
       "    </tr>\n",
       "    <tr>\n",
       "      <th>2</th>\n",
       "      <td>5c28972a795bd2fac69fa974</td>\n",
       "      <td>The federal Liberal party has selected the own...</td>\n",
       "      <td>666e6b9312bd832517c5b16df355460b</td>\n",
       "    </tr>\n",
       "    <tr>\n",
       "      <th>3</th>\n",
       "      <td>5c29beda1e67d78e27b74939</td>\n",
       "      <td>Australia is expressing concerns over the case...</td>\n",
       "      <td>4787aa6578df43210721ee6a426e1362</td>\n",
       "    </tr>\n",
       "    <tr>\n",
       "      <th>4</th>\n",
       "      <td>5c182ac21e67d78e277944ad</td>\n",
       "      <td>Darian Lonechild is new to advocacy work, but ...</td>\n",
       "      <td>fe61078e97e0777d48a3285d272018b0</td>\n",
       "    </tr>\n",
       "  </tbody>\n",
       "</table>\n",
       "</div>"
      ],
      "text/plain": [
       "                  text_name  \\\n",
       "0  5c1548a31e67d78e2771624f   \n",
       "1  5c489df91e67d78e271d66c5   \n",
       "2  5c28972a795bd2fac69fa974   \n",
       "3  5c29beda1e67d78e27b74939   \n",
       "4  5c182ac21e67d78e277944ad   \n",
       "\n",
       "                                                text  \\\n",
       "0  Looking for a job, kid? Try a store, a bank, a...   \n",
       "1  After fading down the stretch last season, the...   \n",
       "2  The federal Liberal party has selected the own...   \n",
       "3  Australia is expressing concerns over the case...   \n",
       "4  Darian Lonechild is new to advocacy work, but ...   \n",
       "\n",
       "                            text_id  \n",
       "0  f035f5d8e405fc4d7c36b2c7759f4730  \n",
       "1  81bebde107bc12c7cb15c69f9ae5ebaf  \n",
       "2  666e6b9312bd832517c5b16df355460b  \n",
       "3  4787aa6578df43210721ee6a426e1362  \n",
       "4  fe61078e97e0777d48a3285d272018b0  "
      ]
     },
     "execution_count": 3,
     "metadata": {},
     "output_type": "execute_result"
    }
   ],
   "source": [
    "# specify the number of rows you wish to display\n",
    "n=5\n",
    "\n",
    "# display a preview of the pandas dataframe\n",
    "qt.text_df.head(n)"
   ]
  },
  {
   "cell_type": "markdown",
   "id": "4039347d",
   "metadata": {},
   "source": [
    "## 3. Extract the quotes\n",
    "Once your texts have been stored in a pandas dataframe, you can begin to extract the quotes from the texts. You can also extract named entities from your text by setting the named entities you wish to include in the below *inc_ent* variable. If you are extracting quotes from a lot of texts, be patient. As a guideline, for a corpus with a file size of 54.13 MB (~26,000 newspaper articles in plain text format), it can take ca 45 minutes to extract quotes.    \n",
    "\n",
    "<div class=\"alert alert-block alert-info\">\n",
    "<b>Tools:</b>    \n",
    "\n",
    "- quote_extractor: for extracting quotes and speakers\n",
    "- spaCy: for extracting named entities\n",
    "</div>\n",
    "\n",
    "<div class=\"alert alert-block alert-warning\">\n",
    "<b>Specify the number of rows to display</b> \n",
    "    \n",
    "By default, you will preview the first 5 rows of the extracted quotes in a pandas dataframe (table) format. However, you can preview more or less rows by specifying the number of rows you wish to display in the variable 'n' below. \n",
    "</div>\n",
    "\n",
    "<div class=\"alert alert-block alert-danger\">\n",
    "<b>Memory limitation in Binder</b> \n",
    "    \n",
    "The free Binder deployment is only guaranteed a maximum of 2GB memory. Processing very large text files may cause the session (kernel) to re-start due to insufficient memory. Check [the user guide](https://github.com/Sydney-Informatics-Hub/HASS-29_Quotation_Tool/blob/main/documents/jupyter-notebook-guide.pdf) for more info. \n",
    "</div>"
   ]
  },
  {
   "cell_type": "code",
   "execution_count": 4,
   "id": "9ab19f7a",
   "metadata": {},
   "outputs": [
    {
     "name": "stdout",
     "output_type": "stream",
     "text": [
      "Extracting quotes...\n",
      "This may take a while...\n"
     ]
    },
    {
     "name": "stderr",
     "output_type": "stream",
     "text": [
      "100%|██████████| 5/5 [00:01<00:00,  4.08it/s]\n"
     ]
    },
    {
     "data": {
      "text/html": [
       "<div>\n",
       "<style scoped>\n",
       "    .dataframe tbody tr th:only-of-type {\n",
       "        vertical-align: middle;\n",
       "    }\n",
       "\n",
       "    .dataframe tbody tr th {\n",
       "        vertical-align: top;\n",
       "    }\n",
       "\n",
       "    .dataframe thead th {\n",
       "        text-align: right;\n",
       "    }\n",
       "</style>\n",
       "<table border=\"1\" class=\"dataframe\">\n",
       "  <thead>\n",
       "    <tr style=\"text-align: right;\">\n",
       "      <th></th>\n",
       "      <th>text_id</th>\n",
       "      <th>text_name</th>\n",
       "      <th>quote_id</th>\n",
       "      <th>quote</th>\n",
       "      <th>quote_index</th>\n",
       "      <th>quote_entities</th>\n",
       "      <th>speaker</th>\n",
       "      <th>speaker_index</th>\n",
       "      <th>speaker_entities</th>\n",
       "      <th>verb</th>\n",
       "      <th>verb_index</th>\n",
       "      <th>quote_token_count</th>\n",
       "      <th>quote_type</th>\n",
       "      <th>is_floating_quote</th>\n",
       "    </tr>\n",
       "  </thead>\n",
       "  <tbody>\n",
       "    <tr>\n",
       "      <th>0</th>\n",
       "      <td>f035f5d8e405fc4d7c36b2c7759f4730</td>\n",
       "      <td>5c1548a31e67d78e2771624f</td>\n",
       "      <td>0</td>\n",
       "      <td>, the retail sector in Ontario employed 226,00...</td>\n",
       "      <td>(238, 300)</td>\n",
       "      <td>[(Ontario, GPE)]</td>\n",
       "      <td>the Civic Action study</td>\n",
       "      <td>(216, 238)</td>\n",
       "      <td>[(Civic Action, ORG)]</td>\n",
       "      <td>according to</td>\n",
       "      <td>(203, 215)</td>\n",
       "      <td>12</td>\n",
       "      <td>AccordingTo</td>\n",
       "      <td>False</td>\n",
       "    </tr>\n",
       "    <tr>\n",
       "      <th>1</th>\n",
       "      <td>f035f5d8e405fc4d7c36b2c7759f4730</td>\n",
       "      <td>5c1548a31e67d78e2771624f</td>\n",
       "      <td>1</td>\n",
       "      <td>Those sectors are the best bets for youth look...</td>\n",
       "      <td>(355, 433)</td>\n",
       "      <td>[]</td>\n",
       "      <td>a study which is being released Monday by Civi...</td>\n",
       "      <td>(447, 502)</td>\n",
       "      <td>[(Civic Action, ORG)]</td>\n",
       "      <td>according to</td>\n",
       "      <td>(434, 446)</td>\n",
       "      <td>16</td>\n",
       "      <td>AccordingTo</td>\n",
       "      <td>False</td>\n",
       "    </tr>\n",
       "    <tr>\n",
       "      <th>2</th>\n",
       "      <td>f035f5d8e405fc4d7c36b2c7759f4730</td>\n",
       "      <td>5c1548a31e67d78e2771624f</td>\n",
       "      <td>2</td>\n",
       "      <td>\"Some of those ‘soft’ skills are in short supp...</td>\n",
       "      <td>(702, 755)</td>\n",
       "      <td>[]</td>\n",
       "      <td>Sevaun Palvetzian, CEO of Civic Action, a non-...</td>\n",
       "      <td>(802, 879)</td>\n",
       "      <td>[(Sevaun Palvetzian, PERSON), (Palvetzian, ORG...</td>\n",
       "      <td>said</td>\n",
       "      <td>(797, 801)</td>\n",
       "      <td>14</td>\n",
       "      <td>CVS</td>\n",
       "      <td>False</td>\n",
       "    </tr>\n",
       "    <tr>\n",
       "      <th>3</th>\n",
       "      <td>f035f5d8e405fc4d7c36b2c7759f4730</td>\n",
       "      <td>5c1548a31e67d78e2771624f</td>\n",
       "      <td>3</td>\n",
       "      <td>they’re what employers are looking for</td>\n",
       "      <td>(756, 794)</td>\n",
       "      <td>[]</td>\n",
       "      <td>Sevaun Palvetzian, CEO of Civic Action, a non-...</td>\n",
       "      <td>(802, 879)</td>\n",
       "      <td>[(Sevaun Palvetzian, PERSON), (Palvetzian, ORG...</td>\n",
       "      <td>said</td>\n",
       "      <td>(797, 801)</td>\n",
       "      <td>7</td>\n",
       "      <td>CVS</td>\n",
       "      <td>False</td>\n",
       "    </tr>\n",
       "    <tr>\n",
       "      <th>4</th>\n",
       "      <td>f035f5d8e405fc4d7c36b2c7759f4730</td>\n",
       "      <td>5c1548a31e67d78e2771624f</td>\n",
       "      <td>4</td>\n",
       "      <td>the unemployment rate of young Canadians is mo...</td>\n",
       "      <td>(967, 1049)</td>\n",
       "      <td>[(Canadians, NORP), (Canadian, NORP)]</td>\n",
       "      <td>the most recent numbers from Statistics Canada,</td>\n",
       "      <td>(919, 966)</td>\n",
       "      <td>[(Canada, GPE), (Statistics Canada, ORG)]</td>\n",
       "      <td>according to</td>\n",
       "      <td>(906, 918)</td>\n",
       "      <td>14</td>\n",
       "      <td>AccordingTo</td>\n",
       "      <td>False</td>\n",
       "    </tr>\n",
       "  </tbody>\n",
       "</table>\n",
       "</div>"
      ],
      "text/plain": [
       "                            text_id                 text_name quote_id  \\\n",
       "0  f035f5d8e405fc4d7c36b2c7759f4730  5c1548a31e67d78e2771624f        0   \n",
       "1  f035f5d8e405fc4d7c36b2c7759f4730  5c1548a31e67d78e2771624f        1   \n",
       "2  f035f5d8e405fc4d7c36b2c7759f4730  5c1548a31e67d78e2771624f        2   \n",
       "3  f035f5d8e405fc4d7c36b2c7759f4730  5c1548a31e67d78e2771624f        3   \n",
       "4  f035f5d8e405fc4d7c36b2c7759f4730  5c1548a31e67d78e2771624f        4   \n",
       "\n",
       "                                               quote  quote_index  \\\n",
       "0  , the retail sector in Ontario employed 226,00...   (238, 300)   \n",
       "1  Those sectors are the best bets for youth look...   (355, 433)   \n",
       "2  \"Some of those ‘soft’ skills are in short supp...   (702, 755)   \n",
       "3             they’re what employers are looking for   (756, 794)   \n",
       "4  the unemployment rate of young Canadians is mo...  (967, 1049)   \n",
       "\n",
       "                          quote_entities  \\\n",
       "0                       [(Ontario, GPE)]   \n",
       "1                                     []   \n",
       "2                                     []   \n",
       "3                                     []   \n",
       "4  [(Canadians, NORP), (Canadian, NORP)]   \n",
       "\n",
       "                                             speaker speaker_index  \\\n",
       "0                             the Civic Action study    (216, 238)   \n",
       "1  a study which is being released Monday by Civi...    (447, 502)   \n",
       "2  Sevaun Palvetzian, CEO of Civic Action, a non-...    (802, 879)   \n",
       "3  Sevaun Palvetzian, CEO of Civic Action, a non-...    (802, 879)   \n",
       "4    the most recent numbers from Statistics Canada,    (919, 966)   \n",
       "\n",
       "                                    speaker_entities          verb  \\\n",
       "0                              [(Civic Action, ORG)]  according to   \n",
       "1                              [(Civic Action, ORG)]  according to   \n",
       "2  [(Sevaun Palvetzian, PERSON), (Palvetzian, ORG...          said   \n",
       "3  [(Sevaun Palvetzian, PERSON), (Palvetzian, ORG...          said   \n",
       "4          [(Canada, GPE), (Statistics Canada, ORG)]  according to   \n",
       "\n",
       "   verb_index  quote_token_count   quote_type  is_floating_quote  \n",
       "0  (203, 215)                 12  AccordingTo              False  \n",
       "1  (434, 446)                 16  AccordingTo              False  \n",
       "2  (797, 801)                 14          CVS              False  \n",
       "3  (797, 801)                  7          CVS              False  \n",
       "4  (906, 918)                 14  AccordingTo              False  "
      ]
     },
     "execution_count": 4,
     "metadata": {},
     "output_type": "execute_result"
    }
   ],
   "source": [
    "# specify the named entities you wish to include below\n",
    "inc_ent = ['ORG','PERSON','GPE','NORP','FAC','LOC']\n",
    "\n",
    "# specify the number of rows you wish to display\n",
    "n=5\n",
    "\n",
    "# extract quotes from the text and preview them in a pandas dataframe (table) format\n",
    "quotes_df = qt.get_quotes(inc_ent)\n",
    "\n",
    "# display a preview of the pandas dataframe\n",
    "quotes_df.head(n)"
   ]
  },
  {
   "cell_type": "markdown",
   "id": "079bc8a7",
   "metadata": {},
   "source": [
    "<div class=\"alert alert-block alert-warning\">\n",
    "<b>What information is included in the above table?</b> \n",
    "\n",
    "In general, the quotes are extracted either based on syntactic or heuristic rules. Some quotes can be stand-alone in a sentence, or followed by another quote (floating quote) from the same speaker. Please refer to [this document](https://doi.org/10.1371/journal.pone.0245533.s001) for further information about the quote extraction process.  \n",
    "    \n",
    "**text_id:** the unique ID of the text.\n",
    "    \n",
    "**text_name** the name of the text, i.e., the name of the .txt files or the 'text_name' column in the excel spreadsheet.\n",
    "    \n",
    "**quote_id/speaker_id:** the unique ID of the extracted quote/speaker.\n",
    "    \n",
    "**quote/speaker:** the content of the extracted quote and the speaker.\n",
    "    \n",
    "**verb:** the verb used to determine the extracted quote.\n",
    "    \n",
    "**quote_index/speaker_index/verb_index:** the location of the first and the last characters of the extracted quote/speaker/verb in the text.\n",
    "    \n",
    "**quote_entities/speaker_entities:** the entity name and type of the entities identified in the extracted quote/speaker.\n",
    "    \n",
    "**quote_token_count:** the length of the extracted quote (in character).\n",
    "    \n",
    "**quote_type:** the type of quote based on how it is extracted.\n",
    "    \n",
    "**floating_quote:** whether the extracted quote is a floating quote, i.e., a follow up quote from the same speaker (The value TRUE here means that the quote is a floating quote, while FALSE means that the quote is not a floating quote).\n",
    "\n",
    "**Quotation symbols:** Q (Quotation mark), S (Speaker), V (Verb), C (Content).  \n",
    "\n",
    "**Named Entities:**  PERSON (People, including fictional), NORP (Nationalities or religious or political groups), FAC (Buildings, airports, highways, etc.), ORG (Companies, agencies, institutions, etc.), GPE (Countries, cities, states), LOC (Non-GPE locations, mountain ranges, bodies of water).\n",
    "</div>"
   ]
  },
  {
   "cell_type": "markdown",
   "id": "70be6223",
   "metadata": {},
   "source": [
    "## 4. Display the quotes\n",
    "Once you have extracted the quotes, you can see a preview of the quotes using spaCy's visualisation tool, displaCy. \n",
    "\n",
    "<div class=\"alert alert-block alert-info\">\n",
    "<b>Tools:</b>    \n",
    "\n",
    "- displaCy: for displaying quotes, speakers and named entities\n",
    "- ipywidgets: for interactive tool\n",
    "</div>\n",
    "\n",
    "<div class=\"alert alert-block alert-danger\">\n",
    "<b>Select the text and the entities to show</b> \n",
    "\n",
    "In order to preview the extracted information, select the text you wish to analyse and which entities to show. Then, you can click the ***Preview*** button to display them and the ***Save Preview*** button to save them as an html file. \n",
    "</div>"
   ]
  },
  {
   "cell_type": "code",
   "execution_count": 5,
   "id": "e536e55b",
   "metadata": {},
   "outputs": [
    {
     "data": {
      "application/vnd.jupyter.widget-view+json": {
       "model_id": "29696783e8544794bd709c587a83b33f",
       "version_major": 2,
       "version_minor": 0
      },
      "text/plain": [
       "VBox(children=(HBox(children=(VBox(children=(HTML(value='<b>Select which entity to show:</b>', placeholder='')…"
      ]
     },
     "execution_count": 5,
     "metadata": {},
     "output_type": "execute_result"
    }
   ],
   "source": [
    "# display a preview of the extracted quotes, speakers and entities within the text\n",
    "qt.analyse_quotes(inc_ent)"
   ]
  },
  {
   "cell_type": "markdown",
   "id": "4f5f4dc4",
   "metadata": {},
   "source": [
    "<div class=\"alert alert-block alert-danger\">\n",
    "<b>Select the text and the entities to show</b> \n",
    "\n",
    "You can also display the top named entitites identified in the quotes and/or speakers. You just need to select the text to analyse (option to analyse 'all texts' is also available), whether to display the identified entities in the speakers and/or quotes, whether to display the entity names and/or types, the number of top entities to display and finally, click the ***Show Top Entities*** and ***Save Top Entities*** buttons to display and save them, respectively. \n",
    "</div>"
   ]
  },
  {
   "cell_type": "code",
   "execution_count": 6,
   "id": "a0a92980",
   "metadata": {},
   "outputs": [
    {
     "data": {
      "application/vnd.jupyter.widget-view+json": {
       "model_id": "43c45541b7c44fff94e0929a93f24975",
       "version_major": 2,
       "version_minor": 0
      },
      "text/plain": [
       "VBox(children=(HBox(children=(VBox(children=(HTML(value='<b>Select which entity to show:</b>', placeholder='')…"
      ]
     },
     "execution_count": 6,
     "metadata": {},
     "output_type": "execute_result"
    }
   ],
   "source": [
    "# check the top named entities identified in the quotes and/or speakers\n",
    "qt.analyse_entities(inc_ent)"
   ]
  },
  {
   "cell_type": "markdown",
   "id": "c6e56460",
   "metadata": {},
   "source": [
    "<div class=\"alert alert-block alert-warning\">\n",
    "<b>Capitalized words</b> \n",
    "\n",
    "Please note that lowercase or UPPERCASE words such as quote, QUOTE, Quote, etc. are recognised as different words by the tool, so you may see that they are counted differently in the above analysis.\n",
    "\n",
    "</div>"
   ]
  },
  {
   "cell_type": "markdown",
   "id": "3607fd4b",
   "metadata": {},
   "source": [
    "## 5. Save the quotes\n",
    "Finally, you can run the below code to save the quotes pandas dataframe into an Excel spreadsheet and download them to your local computer.  "
   ]
  },
  {
   "cell_type": "code",
   "execution_count": 7,
   "id": "388ca926",
   "metadata": {},
   "outputs": [
    {
     "name": "stdout",
     "output_type": "stream",
     "text": [
      "Click below to download:\n"
     ]
    },
    {
     "data": {
      "text/html": [
       "<a href='./output/quotes.xlsx' download=quotes.xlsx>quotes.xlsx</a><br>"
      ],
      "text/plain": [
       "/home/jovyan/output/quotes.xlsx"
      ]
     },
     "metadata": {},
     "output_type": "display_data"
    }
   ],
   "source": [
    "# specify output directory and file name\n",
    "output_dir = './output/'\n",
    "file_name = 'quotes.xlsx'\n",
    "\n",
    "# save quotes_df into an Excel spreadsheet\n",
    "from pyexcelerate import Workbook\n",
    "values = [quotes_df.columns] + list(quotes_df.values)\n",
    "wb = Workbook()\n",
    "wb.new_sheet('Sheet1', data=values)\n",
    "wb.save(output_dir + file_name)\n",
    "\n",
    "# download quotes_df to your computer\n",
    "print('Click below to download:')\n",
    "display(DownloadFileLink(output_dir + file_name, 'quotes.xlsx'))"
   ]
  },
  {
   "cell_type": "code",
   "execution_count": null,
   "id": "d517dd4d-9cb6-4b7d-af58-30d017b06c80",
   "metadata": {},
   "outputs": [],
   "source": []
  }
 ],
 "metadata": {
  "celltoolbar": "Raw Cell Format",
  "kernelspec": {
   "display_name": "Python 3 (ipykernel)",
   "language": "python",
   "name": "python3"
  },
  "language_info": {
   "codemirror_mode": {
    "name": "ipython",
    "version": 3
   },
   "file_extension": ".py",
   "mimetype": "text/x-python",
   "name": "python",
   "nbconvert_exporter": "python",
   "pygments_lexer": "ipython3",
   "version": "3.11.5"
  },
  "vscode": {
   "interpreter": {
    "hash": "50e9832c473c86713864f61257029e15f281e1af6f46dd8361ab2dc7ec7915dd"
   }
  }
 },
 "nbformat": 4,
 "nbformat_minor": 5
}
